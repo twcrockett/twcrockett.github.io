{
  "cells": [
    {
      "cell_type": "raw",
      "metadata": {},
      "source": [
        "---\n",
        "title: \"EPPS 6302: Assignment 6\"\n",
        "description-title: \"Asyncio\"\n",
        "format: \n",
        "  html:\n",
        "    code-fold: true\n",
        "    toc-depth: 2\n",
        "---"
      ],
      "id": "cc75e5cf"
    },
    {
      "cell_type": "markdown",
      "metadata": {},
      "source": [
        "I believe in Python supremacy, so here's a simple example of one of the methods I use to scrape or download in parallel instances: the asyncio package. It's not let me down thus far.\n"
      ],
      "id": "9660cc42"
    },
    {
      "cell_type": "code",
      "metadata": {},
      "source": [
        "import asyncio\n",
        "import aiohttp\n",
        "import aiosqlite\n",
        "\n",
        "async def download_pdf(session, url):\n",
        "    async with session.get(url) as response:\n",
        "        if response.status == 200:\n",
        "            return await response.read()\n",
        "        else:\n",
        "            raise Exception(f\"Error downloading {url}\")\n",
        "\n",
        "async def save_pdf_to_db(db, url, data):\n",
        "    async with db.execute(\"INSERT INTO pdfs (url, content) VALUES (?, ?)\", (url, data)):\n",
        "        await db.commit()\n",
        "\n",
        "async def main(urls):\n",
        "    async with aiohttp.ClientSession() as session:\n",
        "        # Create database and table\n",
        "        db = await aiosqlite.connect(\"pdf_database.db\")\n",
        "        await db.execute(\"CREATE TABLE IF NOT EXISTS pdfs (url TEXT, content BLOB)\")\n",
        "\n",
        "        tasks = []\n",
        "        for url in urls:\n",
        "            task = asyncio.create_task(download_pdf(session, url))\n",
        "            tasks.append(task)\n",
        "\n",
        "        pdf_contents = await asyncio.gather(*tasks)\n",
        "\n",
        "        for url, content in zip(urls, pdf_contents):\n",
        "            await save_pdf_to_db(db, url, content)\n",
        "\n",
        "        await db.close()"
      ],
      "id": "52cbcd78",
      "execution_count": null,
      "outputs": []
    }
  ],
  "metadata": {
    "kernelspec": {
      "name": "python3",
      "language": "python",
      "display_name": "Python 3 (ipykernel)"
    }
  },
  "nbformat": 4,
  "nbformat_minor": 5
}